{
 "cells": [
  {
   "cell_type": "code",
   "execution_count": 38,
   "id": "useful-literature",
   "metadata": {},
   "outputs": [],
   "source": [
    "import json\n",
    "import requests"
   ]
  },
  {
   "cell_type": "code",
   "execution_count": 39,
   "id": "involved-discretion",
   "metadata": {},
   "outputs": [],
   "source": [
    "def get_kv_map():\n",
    "    r = requests.get('https://textract-console-us-west-2-9922d8aa-de5d-460c-8546-ea9d49361da1.s3-us-west-2.amazonaws.com/results/apiAwsResponse.json')\n",
    "\n",
    "    data = r.json()\n",
    "    print(json.dumps(data,indent=4))\n",
    "    blocks=data['Blocks']\n",
    "    \n",
    "    # get key and value maps\n",
    "    key_map = {}\n",
    "    value_map = {}\n",
    "    block_map = {}\n",
    "    for block in blocks:\n",
    "        block_id = block['Id']\n",
    "        block_map[block_id] = block\n",
    "        if block['BlockType'] == \"KEY_VALUE_SET\":\n",
    "            if 'KEY' in block['EntityTypes']:\n",
    "                key_map[block_id] = block\n",
    "            else:\n",
    "                value_map[block_id] = block\n",
    "\n",
    "    return key_map, value_map, block_map\n"
   ]
  },
  {
   "cell_type": "code",
   "execution_count": 40,
   "id": "understanding-break",
   "metadata": {},
   "outputs": [
    {
     "name": "stderr",
     "output_type": "stream",
     "text": [
      "IOPub data rate exceeded.\n",
      "The Jupyter server will temporarily stop sending output\n",
      "to the client in order to avoid crashing it.\n",
      "To change this limit, set the config variable\n",
      "`--ServerApp.iopub_data_rate_limit`.\n",
      "\n",
      "Current values:\n",
      "ServerApp.iopub_data_rate_limit=1000000.0 (bytes/sec)\n",
      "ServerApp.rate_limit_window=3.0 (secs)\n",
      "\n"
     ]
    }
   ],
   "source": [
    "key_map, value_map, block_map = get_kv_map()\n"
   ]
  },
  {
   "cell_type": "raw",
   "id": "invisible-street",
   "metadata": {},
   "source": []
  },
  {
   "cell_type": "code",
   "execution_count": null,
   "id": "presidential-blackberry",
   "metadata": {},
   "outputs": [],
   "source": []
  },
  {
   "cell_type": "code",
   "execution_count": null,
   "id": "mediterranean-insured",
   "metadata": {},
   "outputs": [],
   "source": []
  }
 ],
 "metadata": {
  "kernelspec": {
   "display_name": "Python 3",
   "language": "python",
   "name": "python3"
  },
  "language_info": {
   "codemirror_mode": {
    "name": "ipython",
    "version": 3
   },
   "file_extension": ".py",
   "mimetype": "text/x-python",
   "name": "python",
   "nbconvert_exporter": "python",
   "pygments_lexer": "ipython3",
   "version": "3.9.1"
  }
 },
 "nbformat": 4,
 "nbformat_minor": 5
}
