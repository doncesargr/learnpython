{
 "cells": [
  {
   "cell_type": "code",
   "execution_count": 4,
   "id": "chronic-experience",
   "metadata": {},
   "outputs": [],
   "source": [
    "import json\n",
    "import requests"
   ]
  },
  {
   "cell_type": "code",
   "execution_count": 5,
   "id": "tired-murray",
   "metadata": {},
   "outputs": [],
   "source": [
    "def get_kv_map():\n",
    "    r = requests.get('https://textract-console-us-west-2-9922d8aa-de5d-460c-8546-ea9d49361da1.s3-us-west-2.amazonaws.com/results/apiAwsResponse.json')\n",
    "\n",
    "    data = r.json()\n",
    "    blocks=data['Blocks']\n",
    "    \n",
    "    # get key and value maps\n",
    "    key_map = {}\n",
    "    value_map = {}\n",
    "    block_map = {}\n",
    "    for block in blocks:\n",
    "        block_id = block['Id']\n",
    "        block_map[block_id] = block\n",
    "        if block['BlockType'] == \"KEY_VALUE_SET\":\n",
    "            if 'KEY' in block['EntityTypes']:\n",
    "                key_map[block_id] = block\n",
    "            else:\n",
    "                value_map[block_id] = block\n",
    "\n",
    "    return key_map, value_map, block_map\n"
   ]
  },
  {
   "cell_type": "code",
   "execution_count": 6,
   "id": "auburn-antique",
   "metadata": {},
   "outputs": [],
   "source": [
    "key_map, value_map, block_map = get_kv_map()\n"
   ]
  },
  {
   "cell_type": "raw",
   "id": "soviet-gasoline",
   "metadata": {},
   "source": [
    "print(key_map)"
   ]
  },
  {
   "cell_type": "code",
   "execution_count": null,
   "id": "physical-check",
   "metadata": {},
   "outputs": [],
   "source": []
  },
  {
   "cell_type": "code",
   "execution_count": null,
   "id": "colored-boring",
   "metadata": {},
   "outputs": [],
   "source": []
  }
 ],
 "metadata": {
  "kernelspec": {
   "display_name": "Python 3",
   "language": "python",
   "name": "python3"
  },
  "language_info": {
   "codemirror_mode": {
    "name": "ipython",
    "version": 3
   },
   "file_extension": ".py",
   "mimetype": "text/x-python",
   "name": "python",
   "nbconvert_exporter": "python",
   "pygments_lexer": "ipython3",
   "version": "3.9.1"
  }
 },
 "nbformat": 4,
 "nbformat_minor": 5
}
